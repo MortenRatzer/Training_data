{
 "cells": [
  {
   "cell_type": "code",
   "execution_count": null,
   "id": "ad2e1031-57b8-4b28-b2bb-1bcf5c26aa8c",
   "metadata": {},
   "outputs": [],
   "source": [
    "import pandas as pd # Importing pandas library and defining pandas name to pd\n",
    "\n",
    "tags_df=pd.read_csv(\"tags.csv\")                 # Read csv file using panda\n",
    "ratings_df=pd.read_csv(\"ratings.csv\")           # Read csv file using panda\n",
    "movies_df=pd.read_csv(\"movies.csv\")             # Read csv file using panda\n",
    "links_df=pd.read_csv(\"links.csv\")               # Read csv file using panda\n",
    "\n",
    "MovieData_df1=pd.merge(tags_df, ratings_df, on=[\"userId\",\"movieId\",\"timestamp\"], how=\"outer\") # Using pandas merge function to combine the four dataframes \n",
    "\n",
    "MovieData_df2=pd.merge(MovieData_df1, movies_df, on=\"movieId\", how=\"outer\") # Using pandas merge function to combine the four dataframes \n",
    "\n",
    "MovieData_df3=pd.merge(MovieData_df2, links_df, on=\"movieId\", how=\"outer\") # Using pandas merge function to combine the four dataframes \n",
    "\n",
    "MovieData_df3.to_csv(\"MovieData.csv\") # Creating a new csv file for the MovieData dataframe"
   ]
  }
 ],
 "metadata": {
  "kernelspec": {
   "display_name": "Python 3 (ipykernel)",
   "language": "python",
   "name": "python3"
  },
  "language_info": {
   "codemirror_mode": {
    "name": "ipython",
    "version": 3
   },
   "file_extension": ".py",
   "mimetype": "text/x-python",
   "name": "python",
   "nbconvert_exporter": "python",
   "pygments_lexer": "ipython3",
   "version": "3.9.7"
  }
 },
 "nbformat": 4,
 "nbformat_minor": 5
}
