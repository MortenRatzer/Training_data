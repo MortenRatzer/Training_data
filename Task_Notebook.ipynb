{
 "cells": [
  {
   "cell_type": "raw",
   "id": "92b07fac-fc0d-4089-985e-42b9f33ed16f",
   "metadata": {},
   "source": [
    "import pandas as pd # Importing pandas library and defining pandas name to pd\n",
    "\n",
    "tags_df=pd.read_csv(\"tags.csv\")                 # Read csv file using panda\n",
    "ratings_df=pd.read_csv(\"ratings.csv\")           # Read csv file using panda\n",
    "movies_df=pd.read_csv(\"movies.csv\")             # Read csv file using panda\n",
    "links_df=pd.read_csv(\"links.csv\")               # Read csv file using panda\n",
    "\n",
    "MovieData_df1=pd.merge(tags_df, ratings_df, on=[\"userId\",\"movieId\",\"timestamp\"], how=\"outer\") # Using pandas merge function to combine the four dataframes \n",
    "\n",
    "MovieData_df2=pd.merge(MovieData_df1, movies_df, on=\"movieId\", how=\"outer\") # Using pandas merge function to combine the four dataframes \n",
    "\n",
    "MovieData_df3=pd.merge(MovieData_df2, links_df, on=\"movieId\", how=\"outer\") # Using pandas merge function to combine the four dataframes \n",
    "\n",
    "MovieData_df3.to_csv(\"MovieData.csv\") # Creating a new csv file for the MovieData dataframe"
   ]
  },
  {
   "cell_type": "code",
   "execution_count": null,
   "id": "91f72ba2-4a85-43dd-8b30-9fdc13cd8e95",
   "metadata": {},
   "outputs": [],
   "source": []
  },
  {
   "cell_type": "code",
   "execution_count": null,
   "id": "bd2837f0-d778-4cba-8b8b-59a8d58f1ef4",
   "metadata": {},
   "outputs": [],
   "source": []
  },
  {
   "cell_type": "code",
   "execution_count": null,
   "id": "b9c64784-36c8-4aed-b3cf-5ffea08f3fe9",
   "metadata": {},
   "outputs": [],
   "source": []
  }
 ],
 "metadata": {
  "kernelspec": {
   "display_name": "Python 3 (ipykernel)",
   "language": "python",
   "name": "python3"
  },
  "language_info": {
   "codemirror_mode": {
    "name": "ipython",
    "version": 3
   },
   "file_extension": ".py",
   "mimetype": "text/x-python",
   "name": "python",
   "nbconvert_exporter": "python",
   "pygments_lexer": "ipython3",
   "version": "3.9.7"
  }
 },
 "nbformat": 4,
 "nbformat_minor": 5
}
