{
 "cells": [
  {
   "cell_type": "code",
   "execution_count": 20,
   "id": "9b2cc0b8-fe7e-47eb-a392-23f1217ea984",
   "metadata": {},
   "outputs": [],
   "source": [
    "import pandas as pd # Importing pandas library and defining pandas name to pd\n",
    "\n",
    "tags_df=pd.read_csv(\"tags.csv\")       # Read csv file using panda\n",
    "ratings_df=pd.read_csv(\"ratings.csv\") # Read csv file using panda\n",
    "movies_df=pd.read_csv(\"movies.csv\")   # Read csv file using panda\n",
    "links_df=pd.read_csv(\"links.csv\")     # Read csv file using panda\n",
    "\n",
    "MovieData=pd.concat([tags_df, ratings_df, movies_df, links_df], axis=0, ignore_index=True) # Using pandas concatenate function to combine the four dataframes \n",
    "MovieData # Depicting the concatenated dataframe names MovieData\n",
    "\n",
    "MovieData.to_csv(\"MovieData.csv\") # Creating a new csv file for the MovieData dataframe"
   ]
  },
  {
   "cell_type": "code",
   "execution_count": null,
   "id": "91f72ba2-4a85-43dd-8b30-9fdc13cd8e95",
   "metadata": {},
   "outputs": [],
   "source": [
    "\n"
   ]
  }
 ],
 "metadata": {
  "kernelspec": {
   "display_name": "Python 3 (ipykernel)",
   "language": "python",
   "name": "python3"
  },
  "language_info": {
   "codemirror_mode": {
    "name": "ipython",
    "version": 3
   },
   "file_extension": ".py",
   "mimetype": "text/x-python",
   "name": "python",
   "nbconvert_exporter": "python",
   "pygments_lexer": "ipython3",
   "version": "3.9.7"
  }
 },
 "nbformat": 4,
 "nbformat_minor": 5
}
